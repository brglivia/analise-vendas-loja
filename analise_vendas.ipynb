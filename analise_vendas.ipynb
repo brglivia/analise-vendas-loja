{
 "cells": [
  {
   "cell_type": "markdown",
   "id": "411188e6-6b1f-4950-b607-ed3d6ff04192",
   "metadata": {},
   "source": [
    "### 📊 Análise de Vendas - Loja Fictícia\n",
    "\n",
    "#### 1. Introdução\n",
    "#### 2. Carregamento dos Dados\n",
    "#### 3. Exploração Inicial dos Dados\n",
    "#### 4. Limpeza e Preparação dos Dados\n",
    "#### 5. Análise Exploratória (EDA)\n",
    "#### 6. Conclusões e Insights"
   ]
  },
  {
   "cell_type": "markdown",
   "id": "87f8e2d1-e25d-4a0c-ba52-cc2a1a0d4237",
   "metadata": {},
   "source": [
    "### 1. Introdução \n",
    "Este projeto tem como objetivo analisar as vendas de uma loja fictícia entre 2023 e 2024. A partir dos dados, serão extraídos insights sobre os produtos mais vendidos, faturamento por região, desempenho por categoria, sazonalidade e mais.\n",
    "\n",
    "Ferramentas utilizadas:\n",
    "- Python (Pandas, Matplotlib, Seaborn)\n",
    "- Jupyter Notebook"
   ]
  },
  {
   "cell_type": "markdown",
   "id": "3f01dddb-551a-4185-b379-eb17db5d9807",
   "metadata": {},
   "source": [
    "### 2. Carregamento dos Dados"
   ]
  },
  {
   "cell_type": "code",
   "execution_count": 13,
   "id": "c1b0330e-561b-4afb-bf8f-bd19d5aab4f2",
   "metadata": {},
   "outputs": [
    {
     "data": {
      "text/html": [
       "<div>\n",
       "<style scoped>\n",
       "    .dataframe tbody tr th:only-of-type {\n",
       "        vertical-align: middle;\n",
       "    }\n",
       "\n",
       "    .dataframe tbody tr th {\n",
       "        vertical-align: top;\n",
       "    }\n",
       "\n",
       "    .dataframe thead th {\n",
       "        text-align: right;\n",
       "    }\n",
       "</style>\n",
       "<table border=\"1\" class=\"dataframe\">\n",
       "  <thead>\n",
       "    <tr style=\"text-align: right;\">\n",
       "      <th></th>\n",
       "      <th>Data da Venda</th>\n",
       "      <th>Produto</th>\n",
       "      <th>Categoria</th>\n",
       "      <th>Preço Unitário</th>\n",
       "      <th>Quantidade Vendida</th>\n",
       "      <th>Região</th>\n",
       "      <th>Vendedor</th>\n",
       "    </tr>\n",
       "  </thead>\n",
       "  <tbody>\n",
       "    <tr>\n",
       "      <th>0</th>\n",
       "      <td>2023-04-08</td>\n",
       "      <td>Bolsa Feminina</td>\n",
       "      <td>Acessórios</td>\n",
       "      <td>150</td>\n",
       "      <td>5</td>\n",
       "      <td>Nordeste</td>\n",
       "      <td>Daniela</td>\n",
       "    </tr>\n",
       "    <tr>\n",
       "      <th>1</th>\n",
       "      <td>2023-01-01</td>\n",
       "      <td>Bolsa Feminina</td>\n",
       "      <td>Acessórios</td>\n",
       "      <td>150</td>\n",
       "      <td>5</td>\n",
       "      <td>Sul</td>\n",
       "      <td>Carlos</td>\n",
       "    </tr>\n",
       "    <tr>\n",
       "      <th>2</th>\n",
       "      <td>2023-06-13</td>\n",
       "      <td>Calça Jeans</td>\n",
       "      <td>Vestuário</td>\n",
       "      <td>120</td>\n",
       "      <td>8</td>\n",
       "      <td>Sudeste</td>\n",
       "      <td>Bruno</td>\n",
       "    </tr>\n",
       "    <tr>\n",
       "      <th>3</th>\n",
       "      <td>2023-01-25</td>\n",
       "      <td>Fone de Ouvido</td>\n",
       "      <td>Eletrônicos</td>\n",
       "      <td>200</td>\n",
       "      <td>3</td>\n",
       "      <td>Norte</td>\n",
       "      <td>Daniela</td>\n",
       "    </tr>\n",
       "    <tr>\n",
       "      <th>4</th>\n",
       "      <td>2023-02-18</td>\n",
       "      <td>Calça Jeans</td>\n",
       "      <td>Vestuário</td>\n",
       "      <td>120</td>\n",
       "      <td>4</td>\n",
       "      <td>Centro-Oeste</td>\n",
       "      <td>Bruno</td>\n",
       "    </tr>\n",
       "  </tbody>\n",
       "</table>\n",
       "</div>"
      ],
      "text/plain": [
       "  Data da Venda         Produto    Categoria  Preço Unitário  \\\n",
       "0    2023-04-08  Bolsa Feminina   Acessórios             150   \n",
       "1    2023-01-01  Bolsa Feminina   Acessórios             150   \n",
       "2    2023-06-13     Calça Jeans    Vestuário             120   \n",
       "3    2023-01-25  Fone de Ouvido  Eletrônicos             200   \n",
       "4    2023-02-18     Calça Jeans    Vestuário             120   \n",
       "\n",
       "   Quantidade Vendida        Região Vendedor  \n",
       "0                   5      Nordeste  Daniela  \n",
       "1                   5           Sul   Carlos  \n",
       "2                   8       Sudeste    Bruno  \n",
       "3                   3         Norte  Daniela  \n",
       "4                   4  Centro-Oeste    Bruno  "
      ]
     },
     "execution_count": 13,
     "metadata": {},
     "output_type": "execute_result"
    }
   ],
   "source": [
    "import pandas as pd\n",
    "\n",
    "# Carregar o CSV\n",
    "df = pd.read_csv(\"dataset_vendas_loja.csv\")\n",
    "\n",
    "# Exibir as primeiras linhas\n",
    "df.head()"
   ]
  },
  {
   "cell_type": "markdown",
   "id": "ffa2f758-4228-4b14-8ef6-fd867849773d",
   "metadata": {},
   "source": [
    "### 3. Exploração Inicial dos Dados"
   ]
  },
  {
   "cell_type": "code",
   "execution_count": 18,
   "id": "d53289dc-16ba-442e-9f4b-0f7eb14c4349",
   "metadata": {},
   "outputs": [
    {
     "data": {
      "text/plain": [
       "(500, 7)"
      ]
     },
     "execution_count": 18,
     "metadata": {},
     "output_type": "execute_result"
    }
   ],
   "source": [
    "# Ver tamanho do dataset\n",
    "df.shape"
   ]
  },
  {
   "cell_type": "code",
   "execution_count": 20,
   "id": "eac375ed-edab-4702-b7b2-9e6687fce5f5",
   "metadata": {},
   "outputs": [
    {
     "name": "stdout",
     "output_type": "stream",
     "text": [
      "<class 'pandas.core.frame.DataFrame'>\n",
      "RangeIndex: 500 entries, 0 to 499\n",
      "Data columns (total 7 columns):\n",
      " #   Column              Non-Null Count  Dtype \n",
      "---  ------              --------------  ----- \n",
      " 0   Data da Venda       500 non-null    object\n",
      " 1   Produto             500 non-null    object\n",
      " 2   Categoria           500 non-null    object\n",
      " 3   Preço Unitário      500 non-null    int64 \n",
      " 4   Quantidade Vendida  500 non-null    int64 \n",
      " 5   Região              500 non-null    object\n",
      " 6   Vendedor            500 non-null    object\n",
      "dtypes: int64(2), object(5)\n",
      "memory usage: 27.5+ KB\n"
     ]
    }
   ],
   "source": [
    "# Ver informações gerais\n",
    "df.info()"
   ]
  },
  {
   "cell_type": "code",
   "execution_count": 22,
   "id": "d5f571ac-60f1-4445-886f-b0d80ecb79ff",
   "metadata": {},
   "outputs": [
    {
     "data": {
      "text/html": [
       "<div>\n",
       "<style scoped>\n",
       "    .dataframe tbody tr th:only-of-type {\n",
       "        vertical-align: middle;\n",
       "    }\n",
       "\n",
       "    .dataframe tbody tr th {\n",
       "        vertical-align: top;\n",
       "    }\n",
       "\n",
       "    .dataframe thead th {\n",
       "        text-align: right;\n",
       "    }\n",
       "</style>\n",
       "<table border=\"1\" class=\"dataframe\">\n",
       "  <thead>\n",
       "    <tr style=\"text-align: right;\">\n",
       "      <th></th>\n",
       "      <th>Preço Unitário</th>\n",
       "      <th>Quantidade Vendida</th>\n",
       "    </tr>\n",
       "  </thead>\n",
       "  <tbody>\n",
       "    <tr>\n",
       "      <th>count</th>\n",
       "      <td>500.000000</td>\n",
       "      <td>500.000000</td>\n",
       "    </tr>\n",
       "    <tr>\n",
       "      <th>mean</th>\n",
       "      <td>694.800000</td>\n",
       "      <td>5.630000</td>\n",
       "    </tr>\n",
       "    <tr>\n",
       "      <th>std</th>\n",
       "      <td>1075.752689</td>\n",
       "      <td>2.941838</td>\n",
       "    </tr>\n",
       "    <tr>\n",
       "      <th>min</th>\n",
       "      <td>70.000000</td>\n",
       "      <td>1.000000</td>\n",
       "    </tr>\n",
       "    <tr>\n",
       "      <th>25%</th>\n",
       "      <td>120.000000</td>\n",
       "      <td>3.000000</td>\n",
       "    </tr>\n",
       "    <tr>\n",
       "      <th>50%</th>\n",
       "      <td>200.000000</td>\n",
       "      <td>6.000000</td>\n",
       "    </tr>\n",
       "    <tr>\n",
       "      <th>75%</th>\n",
       "      <td>300.000000</td>\n",
       "      <td>8.000000</td>\n",
       "    </tr>\n",
       "    <tr>\n",
       "      <th>max</th>\n",
       "      <td>3500.000000</td>\n",
       "      <td>10.000000</td>\n",
       "    </tr>\n",
       "  </tbody>\n",
       "</table>\n",
       "</div>"
      ],
      "text/plain": [
       "       Preço Unitário  Quantidade Vendida\n",
       "count      500.000000          500.000000\n",
       "mean       694.800000            5.630000\n",
       "std       1075.752689            2.941838\n",
       "min         70.000000            1.000000\n",
       "25%        120.000000            3.000000\n",
       "50%        200.000000            6.000000\n",
       "75%        300.000000            8.000000\n",
       "max       3500.000000           10.000000"
      ]
     },
     "execution_count": 22,
     "metadata": {},
     "output_type": "execute_result"
    }
   ],
   "source": [
    "# Ver estatísticas básicas\n",
    "df.describe()"
   ]
  },
  {
   "cell_type": "code",
   "execution_count": 24,
   "id": "046ab828-e665-4af8-b2de-03ecd261f8f9",
   "metadata": {},
   "outputs": [
    {
     "data": {
      "text/plain": [
       "Data da Venda         277\n",
       "Produto                 9\n",
       "Categoria               4\n",
       "Preço Unitário          9\n",
       "Quantidade Vendida     10\n",
       "Região                  5\n",
       "Vendedor                8\n",
       "dtype: int64"
      ]
     },
     "execution_count": 24,
     "metadata": {},
     "output_type": "execute_result"
    }
   ],
   "source": [
    "# Ver colunas únicas\n",
    "df.nunique()"
   ]
  },
  {
   "cell_type": "markdown",
   "id": "c473785c-7847-4af0-b6d1-60bf5ab2e985",
   "metadata": {},
   "source": [
    "### 4. Limpeza e Preparação dos Dados"
   ]
  },
  {
   "cell_type": "code",
   "execution_count": 33,
   "id": "67f35be5-69ab-46ce-9632-533cc8e44b59",
   "metadata": {},
   "outputs": [
    {
     "data": {
      "text/html": [
       "<div>\n",
       "<style scoped>\n",
       "    .dataframe tbody tr th:only-of-type {\n",
       "        vertical-align: middle;\n",
       "    }\n",
       "\n",
       "    .dataframe tbody tr th {\n",
       "        vertical-align: top;\n",
       "    }\n",
       "\n",
       "    .dataframe thead th {\n",
       "        text-align: right;\n",
       "    }\n",
       "</style>\n",
       "<table border=\"1\" class=\"dataframe\">\n",
       "  <thead>\n",
       "    <tr style=\"text-align: right;\">\n",
       "      <th></th>\n",
       "      <th>Data da Venda</th>\n",
       "      <th>Produto</th>\n",
       "      <th>Categoria</th>\n",
       "      <th>Preço Unitário</th>\n",
       "      <th>Quantidade Vendida</th>\n",
       "      <th>Região</th>\n",
       "      <th>Vendedor</th>\n",
       "      <th>Ano</th>\n",
       "      <th>Mês</th>\n",
       "      <th>Faturamento</th>\n",
       "    </tr>\n",
       "  </thead>\n",
       "  <tbody>\n",
       "    <tr>\n",
       "      <th>0</th>\n",
       "      <td>2023-04-08</td>\n",
       "      <td>Bolsa Feminina</td>\n",
       "      <td>Acessórios</td>\n",
       "      <td>150</td>\n",
       "      <td>5</td>\n",
       "      <td>Nordeste</td>\n",
       "      <td>Daniela</td>\n",
       "      <td>2023</td>\n",
       "      <td>4</td>\n",
       "      <td>750</td>\n",
       "    </tr>\n",
       "    <tr>\n",
       "      <th>1</th>\n",
       "      <td>2023-01-01</td>\n",
       "      <td>Bolsa Feminina</td>\n",
       "      <td>Acessórios</td>\n",
       "      <td>150</td>\n",
       "      <td>5</td>\n",
       "      <td>Sul</td>\n",
       "      <td>Carlos</td>\n",
       "      <td>2023</td>\n",
       "      <td>1</td>\n",
       "      <td>750</td>\n",
       "    </tr>\n",
       "    <tr>\n",
       "      <th>2</th>\n",
       "      <td>2023-06-13</td>\n",
       "      <td>Calça Jeans</td>\n",
       "      <td>Vestuário</td>\n",
       "      <td>120</td>\n",
       "      <td>8</td>\n",
       "      <td>Sudeste</td>\n",
       "      <td>Bruno</td>\n",
       "      <td>2023</td>\n",
       "      <td>6</td>\n",
       "      <td>960</td>\n",
       "    </tr>\n",
       "    <tr>\n",
       "      <th>3</th>\n",
       "      <td>2023-01-25</td>\n",
       "      <td>Fone de Ouvido</td>\n",
       "      <td>Eletrônicos</td>\n",
       "      <td>200</td>\n",
       "      <td>3</td>\n",
       "      <td>Norte</td>\n",
       "      <td>Daniela</td>\n",
       "      <td>2023</td>\n",
       "      <td>1</td>\n",
       "      <td>600</td>\n",
       "    </tr>\n",
       "    <tr>\n",
       "      <th>4</th>\n",
       "      <td>2023-02-18</td>\n",
       "      <td>Calça Jeans</td>\n",
       "      <td>Vestuário</td>\n",
       "      <td>120</td>\n",
       "      <td>4</td>\n",
       "      <td>Centro-Oeste</td>\n",
       "      <td>Bruno</td>\n",
       "      <td>2023</td>\n",
       "      <td>2</td>\n",
       "      <td>480</td>\n",
       "    </tr>\n",
       "  </tbody>\n",
       "</table>\n",
       "</div>"
      ],
      "text/plain": [
       "  Data da Venda         Produto    Categoria  Preço Unitário  \\\n",
       "0    2023-04-08  Bolsa Feminina   Acessórios             150   \n",
       "1    2023-01-01  Bolsa Feminina   Acessórios             150   \n",
       "2    2023-06-13     Calça Jeans    Vestuário             120   \n",
       "3    2023-01-25  Fone de Ouvido  Eletrônicos             200   \n",
       "4    2023-02-18     Calça Jeans    Vestuário             120   \n",
       "\n",
       "   Quantidade Vendida        Região Vendedor   Ano  Mês  Faturamento  \n",
       "0                   5      Nordeste  Daniela  2023    4          750  \n",
       "1                   5           Sul   Carlos  2023    1          750  \n",
       "2                   8       Sudeste    Bruno  2023    6          960  \n",
       "3                   3         Norte  Daniela  2023    1          600  \n",
       "4                   4  Centro-Oeste    Bruno  2023    2          480  "
      ]
     },
     "execution_count": 33,
     "metadata": {},
     "output_type": "execute_result"
    }
   ],
   "source": [
    "# Converter a coluna de data\n",
    "df[\"Data da Venda\"] = pd.to_datetime(df[\"Data da Venda\"])\n",
    "\n",
    "# Criar colunas de Ano, Mês e Faturamento\n",
    "df[\"Ano\"] = df[\"Data da Venda\"].dt.year\n",
    "df[\"Mês\"] = df[\"Data da Venda\"].dt.month\n",
    "df[\"Faturamento\"] = df[\"Preço Unitário\"] * df[\"Quantidade Vendida\"]\n",
    "df.head()"
   ]
  },
  {
   "cell_type": "code",
   "execution_count": 35,
   "id": "1cd20f0c-d8f8-44a2-9414-f244802dfa70",
   "metadata": {},
   "outputs": [
    {
     "data": {
      "text/plain": [
       "Data da Venda         0\n",
       "Produto               0\n",
       "Categoria             0\n",
       "Preço Unitário        0\n",
       "Quantidade Vendida    0\n",
       "Região                0\n",
       "Vendedor              0\n",
       "Ano                   0\n",
       "Mês                   0\n",
       "Faturamento           0\n",
       "dtype: int64"
      ]
     },
     "execution_count": 35,
     "metadata": {},
     "output_type": "execute_result"
    }
   ],
   "source": [
    "# Verificar valores ausentes\n",
    "df.isnull().sum()"
   ]
  },
  {
   "cell_type": "markdown",
   "id": "8a2c33af-dc97-4b06-8d61-8146c1f044f8",
   "metadata": {},
   "source": [
    "### 5. Análise Exploratória (EDA)"
   ]
  },
  {
   "cell_type": "markdown",
   "id": "5824ed11-e558-41a2-94fb-7e3686530ad4",
   "metadata": {},
   "source": [
    "#### Produtos mais vendidos"
   ]
  },
  {
   "cell_type": "code",
   "execution_count": 50,
   "id": "39eb983a-302e-4d30-8778-821a59648649",
   "metadata": {},
   "outputs": [
    {
     "data": {
      "image/png": "[encoded data removed]",
      "text/plain": [
       "<Figure size 600x300 with 1 Axes>"
      ]
     },
     "metadata": {},
     "output_type": "display_data"
    }
   ],
   "source": [
    "import matplotlib.pyplot as plt\n",
    "import seaborn as sns\n",
    "\n",
    "plt.figure(figsize=(6,3))\n",
    "sns.barplot(\n",
    "    x=top_produtos.values, \n",
    "    y=top_produtos.index, \n",
    "    hue=top_produtos.index, \n",
    "    palette=\"Blues_d\", \n",
    "    legend=False\n",
    ")\n",
    "plt.title(\"Top Produtos Mais Vendidos\")\n",
    "plt.xlabel(\"Quantidade Vendida\")\n",
    "plt.ylabel(\"Produto\")\n",
    "plt.show()"
   ]
  },
  {
   "cell_type": "markdown",
   "id": "352a067b-1a9f-4ac2-b70b-f23f79fc4a19",
   "metadata": {},
   "source": [
    "#### Faturamento por Categoria"
   ]
  },
  {
   "cell_type": "code",
   "execution_count": 46,
   "id": "b4ae29c3-b1c6-4ffe-ab20-f91ab6bc24bb",
   "metadata": {},
   "outputs": [
    {
     "data": {
      "image/png": "[encoded data removed]",
      "text/plain": [
       "<Figure size 600x300 with 1 Axes>"
      ]
     },
     "metadata": {},
     "output_type": "display_data"
    }
   ],
   "source": [
    "cat_fat = df.groupby(\"Categoria\")[\"Faturamento\"].sum().sort_values()\n",
    "\n",
    "plt.figure(figsize=(6,3))\n",
    "cat_fat.plot(kind=\"barh\", color=\"green\")\n",
    "plt.title(\"Faturamento por Categoria\")\n",
    "plt.xlabel(\"Faturamento\")\n",
    "plt.ylabel(\"Categoria\")\n",
    "plt.show()"
   ]
  },
  {
   "cell_type": "markdown",
   "id": "e3a66f8f-2fd2-4448-8bd6-a283a02791de",
   "metadata": {},
   "source": [
    "#### Faturamento por Região"
   ]
  },
  {
   "cell_type": "code",
   "execution_count": 55,
   "id": "3125aaa2-5265-4c01-ae85-12f276af9c53",
   "metadata": {},
   "outputs": [
    {
     "data": {
      "image/png": "[encoded data removed]",
      "text/plain": [
       "<Figure size 400x400 with 1 Axes>"
      ]
     },
     "metadata": {},
     "output_type": "display_data"
    }
   ],
   "source": [
    "df.groupby(\"Região\")[\"Faturamento\"].sum().plot(kind=\"pie\", autopct=\"%.1f%%\", figsize=(4,4))\n",
    "plt.title(\"Distribuição do Faturamento por Região\")\n",
    "plt.ylabel(\"\")\n",
    "plt.show()"
   ]
  },
  {
   "cell_type": "markdown",
   "id": "29450e63-762a-407a-9ae2-41d012762096",
   "metadata": {},
   "source": [
    "#### Faturamento ao Longo do Tempo"
   ]
  },
  {
   "cell_type": "code",
   "execution_count": 66,
   "id": "f154d897-8f5c-4041-84be-b668684be943",
   "metadata": {},
   "outputs": [
    {
     "data": {
      "image/png": "[encoded data removed]",
      "text/plain": [
       "<Figure size 700x300 with 1 Axes>"
      ]
     },
     "metadata": {},
     "output_type": "display_data"
    }
   ],
   "source": [
    "# Renomeia colunas para o formato aceito pelo pandas\n",
    "df_mensal_ajustado = df_mensal.rename(columns={\"Ano\": \"year\", \"Mês\": \"month\"})\n",
    "\n",
    "# Cria a coluna \"Data\" com dia fixo como 1º\n",
    "df_mensal[\"Data\"] = pd.to_datetime(df_mensal_ajustado[[\"year\", \"month\"]].assign(day=1))\n",
    "\n",
    "\n",
    "plt.figure(figsize=(7,3))\n",
    "sns.lineplot(data=df_mensal, x=\"Data\", y=\"Faturamento\", marker=\"o\")\n",
    "plt.title(\"Faturamento Mensal\")\n",
    "plt.xlabel(\"Data\")\n",
    "plt.ylabel(\"Faturamento\")\n",
    "plt.grid(True)\n",
    "plt.show()"
   ]
  },
  {
   "cell_type": "markdown",
   "id": "f39b46ba-6196-4e3f-9ee9-f51a35d19c44",
   "metadata": {},
   "source": [
    "### 6. Conclusões e Insights "
   ]
  },
  {
   "cell_type": "code",
   "execution_count": 82,
   "id": "7c6187aa-bf2a-4afe-9e5a-29ec03c58329",
   "metadata": {},
   "outputs": [
    {
     "data": {
      "text/plain": [
       "Produto\n",
       "Relógio    397\n",
       "Name: Quantidade Vendida, dtype: int64"
      ]
     },
     "execution_count": 82,
     "metadata": {},
     "output_type": "execute_result"
    }
   ],
   "source": [
    "# Produto mais vendido em quantidade:\n",
    "df.groupby(\"Produto\")[\"Quantidade Vendida\"].sum().sort_values(ascending=False).head(1)"
   ]
  },
  {
   "cell_type": "code",
   "execution_count": 86,
   "id": "f9462a26-00e4-45de-a314-25e1b79e9160",
   "metadata": {},
   "outputs": [
    {
     "data": {
      "text/plain": [
       "Produto\n",
       "Notebook    1158500\n",
       "Name: Faturamento, dtype: int64"
      ]
     },
     "execution_count": 86,
     "metadata": {},
     "output_type": "execute_result"
    }
   ],
   "source": [
    "# Produto com maior faturamento:\n",
    "df.groupby(\"Produto\")[\"Faturamento\"].sum().sort_values(ascending=False).head(1)"
   ]
  },
  {
   "cell_type": "code",
   "execution_count": 88,
   "id": "d68bc87f-6fef-4760-9201-5d308da6e61a",
   "metadata": {},
   "outputs": [
    {
     "data": {
      "text/plain": [
       "Região\n",
       "Sul             480170\n",
       "Centro-Oeste    416850\n",
       "Nordeste        397630\n",
       "Norte           385910\n",
       "Sudeste         328240\n",
       "Name: Faturamento, dtype: int64"
      ]
     },
     "execution_count": 88,
     "metadata": {},
     "output_type": "execute_result"
    }
   ],
   "source": [
    "# Região com maior faturamento:\n",
    "df.groupby(\"Região\")[\"Faturamento\"].sum().sort_values(ascending=False)"
   ]
  },
  {
   "cell_type": "code",
   "execution_count": 90,
   "id": "b53ad265-e884-4cf6-9995-b68d1e3610d4",
   "metadata": {},
   "outputs": [
    {
     "data": {
      "text/plain": [
       "Categoria\n",
       "Eletrônicos    1702800\n",
       "Acessórios      148800\n",
       "Calçados        103230\n",
       "Vestuário        53970\n",
       "Name: Faturamento, dtype: int64"
      ]
     },
     "execution_count": 90,
     "metadata": {},
     "output_type": "execute_result"
    }
   ],
   "source": [
    "# Categoria com maior faturamento:\n",
    "df.groupby(\"Categoria\")[\"Faturamento\"].sum().sort_values(ascending=False)"
   ]
  },
  {
   "cell_type": "code",
   "execution_count": 92,
   "id": "ed4d3eb6-6a72-4abe-a659-c6107e5bb662",
   "metadata": {},
   "outputs": [
    {
     "data": {
      "text/html": [
       "<div>\n",
       "<style scoped>\n",
       "    .dataframe tbody tr th:only-of-type {\n",
       "        vertical-align: middle;\n",
       "    }\n",
       "\n",
       "    .dataframe tbody tr th {\n",
       "        vertical-align: top;\n",
       "    }\n",
       "\n",
       "    .dataframe thead th {\n",
       "        text-align: right;\n",
       "    }\n",
       "</style>\n",
       "<table border=\"1\" class=\"dataframe\">\n",
       "  <thead>\n",
       "    <tr style=\"text-align: right;\">\n",
       "      <th></th>\n",
       "      <th>Ano</th>\n",
       "      <th>Mês</th>\n",
       "      <th>Faturamento</th>\n",
       "      <th>Data</th>\n",
       "    </tr>\n",
       "  </thead>\n",
       "  <tbody>\n",
       "    <tr>\n",
       "      <th>3</th>\n",
       "      <td>2023</td>\n",
       "      <td>4</td>\n",
       "      <td>332650</td>\n",
       "      <td>2023-04-01</td>\n",
       "    </tr>\n",
       "  </tbody>\n",
       "</table>\n",
       "</div>"
      ],
      "text/plain": [
       "    Ano  Mês  Faturamento       Data\n",
       "3  2023    4       332650 2023-04-01"
      ]
     },
     "execution_count": 92,
     "metadata": {},
     "output_type": "execute_result"
    }
   ],
   "source": [
    "# Mês com maior faturamento:\n",
    "df_mensal.sort_values(\"Faturamento\", ascending=False).head(1)"
   ]
  },
  {
   "cell_type": "code",
   "execution_count": 94,
   "id": "3ad98680-72c5-46c1-926f-bd78350a3c5d",
   "metadata": {},
   "outputs": [
    {
     "data": {
      "text/plain": [
       "Vendedor\n",
       "Gabriel    369810\n",
       "Name: Faturamento, dtype: int64"
      ]
     },
     "execution_count": 94,
     "metadata": {},
     "output_type": "execute_result"
    }
   ],
   "source": [
    "# Vendedor com maior faturamento:\n",
    "df.groupby(\"Vendedor\")[\"Faturamento\"].sum().sort_values(ascending=False).head(1)"
   ]
  },
  {
   "cell_type": "markdown",
   "id": "0baf26ac-1578-4d8b-8be5-24377603382a",
   "metadata": {},
   "source": [
    "#### Principais Insights:\n",
    "\n",
    "- Produto mais vendido em quantidade:\n",
    "Relógio, com 397 unidades vendidas.\n",
    "\n",
    "- Produto com maior faturamento:\n",
    "Notebook, gerando R$1.158.500 em receita.\n",
    "\n",
    "- Região com maior faturamento:\n",
    "Sul, com aproximadamente R$480.170 em vendas.\n",
    "\n",
    "- Categoria com maior faturamento:\n",
    "Eletrônicos, totalizando R$1.702.800.\n",
    "\n",
    "- Mês com maior faturamento:\n",
    "Abril/2023, com R$332.650.\n",
    "\n",
    "- Vendedor com melhor desempenho:\n",
    "Gabriel, com um faturamento total de R$369.810."
   ]
  },
  {
   "cell_type": "code",
   "execution_count": null,
   "id": "82af7d69-059d-45c1-85e7-3e814cad3f14",
   "metadata": {},
   "outputs": [],
   "source": []
  }
 ],
 "metadata": {
  "kernelspec": {
   "display_name": "Python [conda env:base] *",
   "language": "python",
   "name": "conda-base-py"
  },
  "language_info": {
   "codemirror_mode": {
    "name": "ipython",
    "version": 3
   },
   "file_extension": ".py",
   "mimetype": "text/x-python",
   "name": "python",
   "nbconvert_exporter": "python",
   "pygments_lexer": "ipython3",
   "version": "3.12.7"
  }
 },
 "nbformat": 4,
 "nbformat_minor": 5
}
